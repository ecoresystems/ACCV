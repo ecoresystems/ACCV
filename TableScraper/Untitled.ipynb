{
 "cells": [
  {
   "cell_type": "code",
   "execution_count": 5,
   "metadata": {},
   "outputs": [],
   "source": [
    "import requests\n",
    "from bs4 import BeautifulSoup\n",
    "import numpy as np\n",
    "import os\n",
    "\n",
    "def table_scraper(URL,info):\n",
    "    page = requests.get(URL)\n",
    "    soup = BeautifulSoup(page.content, 'html.parser')\n",
    "    tables = soup.find_all(\"table\", class_=\"tbl_stats\")\n",
    "    type = 0\n",
    "    for table in tables:\n",
    "        cols = table.find_all(\"td\")\n",
    "        cols = [ele.text.strip() for ele in cols]\n",
    "        array = np.asarray(cols).astype(int)\n",
    "        if type == 0:\n",
    "            np.save(os.path.join(\"quantization_tables\",info+\"lc\"),array)\n",
    "        else:\n",
    "            np.save(os.path.join(\"quantization_tables\",info+\"cc\"),array)\n",
    "        type += 1"
   ]
  },
  {
   "cell_type": "code",
   "execution_count": 7,
   "metadata": {},
   "outputs": [
    {
     "name": "stdout",
     "output_type": "stream",
     "text": [
      "failed on:\n",
      "FE240/X795__shq_\n",
      "https://www.impulseadventure.com/photo/jpeg-quantization-lookup.html?src1=422\n",
      "failed on:\n",
      "u1000/S1000__SHQ_\n",
      "https://www.impulseadventure.com/photo/jpeg-quantization-lookup.html?src1=385\n"
     ]
    }
   ],
   "source": [
    "with open(\"table_url_list.txt\",\"r\") as source_file:\n",
    "    base_soup = BeautifulSoup(source_file, 'html.parser')\n",
    "for item in base_soup.find_all(\"a\"):\n",
    "    info = item.text.replace(\" \",\"_\").replace(\"(\",\"_\").replace(\")\",\"_\").replace(\"*\",\"_\").replace(\"/\",\"_\")\n",
    "    url = \"https://www.impulseadventure.com\"+item['href']\n",
    "    try:\n",
    "        table_scraper(url,info)\n",
    "    except:\n",
    "        print(\"failed on:\")\n",
    "        print(info)\n",
    "        print(url)\n",
    "    "
   ]
  },
  {
   "cell_type": "code",
   "execution_count": 8,
   "metadata": {},
   "outputs": [],
   "source": [
    "table_scraper(\"https://www.impulseadventure.com/photo/jpeg-quantization-lookup.html?src1=422\",\"FE240_X795__shq_\")"
   ]
  },
  {
   "cell_type": "code",
   "execution_count": 9,
   "metadata": {},
   "outputs": [],
   "source": [
    "table_scraper(\"https://www.impulseadventure.com/photo/jpeg-quantization-lookup.html?src1=385\",\"u1000_S1000__SHQ_\")"
   ]
  },
  {
   "cell_type": "code",
   "execution_count": null,
   "metadata": {},
   "outputs": [],
   "source": []
  }
 ],
 "metadata": {
  "kernelspec": {
   "display_name": "Python 3",
   "language": "python",
   "name": "python3"
  },
  "language_info": {
   "codemirror_mode": {
    "name": "ipython",
    "version": 3
   },
   "file_extension": ".py",
   "mimetype": "text/x-python",
   "name": "python",
   "nbconvert_exporter": "python",
   "pygments_lexer": "ipython3",
   "version": "3.7.6"
  }
 },
 "nbformat": 4,
 "nbformat_minor": 4
}
