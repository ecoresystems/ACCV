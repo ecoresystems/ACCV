{
 "cells": [
  {
   "cell_type": "code",
   "execution_count": 14,
   "metadata": {},
   "outputs": [
    {
     "name": "stdout",
     "output_type": "stream",
     "text": [
      "Tensor(\"Reshape:0\", shape=(225, 8, 450, 8, 3), dtype=float32)\n",
      "False\n"
     ]
    }
   ],
   "source": [
    "import numpy as np\n",
    "import tensorflow as tf\n",
    "from scipy.fftpack import dct\n",
    "import cv2\n",
    "from image_processor_gpu import *\n",
    "@tf.function\n",
    "def perform_blockwise_dct_tf(img):\n",
    "    shape = tf.shape(img)\n",
    "    x, y, c = shape[0], shape[1], shape[2]\n",
    "    img_res = tf.reshape(img, [x // 8, 8, y // 8, 8, c])\n",
    "    print(img_res)\n",
    "    img_dct1 = tf.signal.dct(tf.transpose(img_res, [0, 1, 2, 4, 3]), norm='ortho')\n",
    "    img_dct2 = tf.signal.dct(tf.transpose(img_dct1, [0, 2, 4, 3, 1]), norm='ortho')\n",
    "    out = tf.reshape(tf.transpose(img_dct2, [0, 4, 1, 2, 3]), shape)\n",
    "    return out\n",
    "\n",
    "\n",
    "def perform_blockwise_dct(img):\n",
    "    imsize = img.shape\n",
    "    dct_blocks = np.zeros(imsize, dtype=img.dtype)\n",
    "    for i in np.r_[:imsize[0]:8]:\n",
    "        for j in np.r_[:imsize[1]:8]:\n",
    "            dct_blocks[i:(i+8), j:(j+8), 0] = dct(dct(img[i:(i+8), j:(j+8), 0].T, norm='ortho').T, norm='ortho')\n",
    "            dct_blocks[i:(i+8), j:(j+8), 1] = dct(dct(img[i:(i+8), j:(j+8), 1].T, norm='ortho').T, norm='ortho')\n",
    "            dct_blocks[i:(i+8), j:(j+8), 2] = dct(dct(img[i:(i+8), j:(j+8), 2].T, norm='ortho').T, norm='ortho')\n",
    "    return dct_blocks\n",
    "\n",
    "if __name__ == \"__main__\":\n",
    "    img = cv2.imread(\"test.png\")\n",
    "    img_yuv = cv2.cvtColor(img,cv2.COLOR_BGR2YUV)\n",
    "    \n",
    "#     img = cv2.resize(img, None, fx=0.6, fy=0.6)\n",
    "#     dct_matrix = dct_matrix_creator()\n",
    "#     quantization_matrix_lc = np.load(os.path.join(\"quantization_tables\", \"Adobe_Photoshop__Save_As_00_lc.npy\")).reshape(\n",
    "#         8, 8)\n",
    "#     quantization_matrix_cc = np.load(os.path.join(\"quantization_tables\", \"Adobe_Photoshop__Save_As_00_lc.npy\")).reshape(\n",
    "#         8, 8)\n",
    "#     processed_img = background_processor(img, dct_matrix, quantization_matrix_lc, quantization_matrix_lc)\n",
    "#     print(processed_img.max())\n",
    "#     print(processed_img.min())\n",
    "    out1 = perform_blockwise_dct(img_yuv.astype(np.float32))\n",
    "    out2 = perform_blockwise_dct_tf(img_yuv.astype(np.float32))\n",
    "    # There is a bit of error\n",
    "    print(np.allclose(out1, out2, rtol=1e-5, atol=1e-6))"
   ]
  },
  {
   "cell_type": "code",
   "execution_count": null,
   "metadata": {},
   "outputs": [],
   "source": []
  }
 ],
 "metadata": {
  "kernelspec": {
   "display_name": "Python 3",
   "language": "python",
   "name": "python3"
  },
  "language_info": {
   "codemirror_mode": {
    "name": "ipython",
    "version": 3
   },
   "file_extension": ".py",
   "mimetype": "text/x-python",
   "name": "python",
   "nbconvert_exporter": "python",
   "pygments_lexer": "ipython3",
   "version": "3.7.7"
  }
 },
 "nbformat": 4,
 "nbformat_minor": 4
}
